{
  "cells": [
    {
      "cell_type": "code",
      "source": [
        "from google.colab import drive\n",
        "drive.mount('/content/drive')"
      ],
      "metadata": {
        "colab": {
          "base_uri": "https://localhost:8080/"
        },
        "id": "5_ku3dTMlhq-",
        "outputId": "5d944d10-3c24-42fa-da13-57d22ade9e9e"
      },
      "execution_count": null,
      "outputs": [
        {
          "output_type": "stream",
          "name": "stdout",
          "text": [
            "Drive already mounted at /content/drive; to attempt to forcibly remount, call drive.mount(\"/content/drive\", force_remount=True).\n"
          ]
        }
      ]
    },
    {
      "cell_type": "code",
      "execution_count": null,
      "metadata": {
        "id": "PgiZtV4T7f_0"
      },
      "outputs": [],
      "source": [
        "import tensorflow as tf\n",
        "from tensorflow.keras.applications import InceptionV3\n",
        "from tensorflow.keras.layers import Dense, GlobalAveragePooling2D, Dropout\n",
        "from tensorflow.keras.models import Model\n",
        "from tensorflow.keras.preprocessing.image import ImageDataGenerator\n",
        "from tensorflow.keras.optimizers import Adam"
      ]
    },
    {
      "cell_type": "code",
      "execution_count": null,
      "metadata": {
        "id": "5rbm3Jny7f_2"
      },
      "outputs": [],
      "source": [
        "TRAIN_DIR = '/content/drive/MyDrive/capstone-jun/split_dataset/train'\n",
        "VAL_DIR = '/content/drive/MyDrive/capstone-jun/split_dataset/val'\n",
        "TEST_DIR = '/content/drive/MyDrive/capstone-jun/split_dataset/test'"
      ]
    },
    {
      "cell_type": "code",
      "source": [
        "IMAGE_SIZE = (224, 224)\n",
        "BATCH_SIZE = 64"
      ],
      "metadata": {
        "id": "Er78xa9QQNpR"
      },
      "execution_count": null,
      "outputs": []
    },
    {
      "cell_type": "code",
      "execution_count": null,
      "metadata": {
        "id": "dW3QasVe7f_3"
      },
      "outputs": [],
      "source": [
        "def dataset():\n",
        "  rescale = tf.keras.layers.Rescaling(1./255)\n",
        "  training_dataset = tf.keras.utils.image_dataset_from_directory(\n",
        "        directory=TRAIN_DIR,\n",
        "        batch_size=BATCH_SIZE,\n",
        "        image_size=IMAGE_SIZE,\n",
        "        shuffle=True,\n",
        "        seed=42,\n",
        "    )\n",
        "\n",
        "  validation_dataset = tf.keras.utils.image_dataset_from_directory(\n",
        "        directory=VAL_DIR,\n",
        "        batch_size=BATCH_SIZE,\n",
        "        image_size=IMAGE_SIZE,\n",
        "        shuffle=True,\n",
        "        seed=42,\n",
        "    )\n",
        "  test_dataset = tf.keras.utils.image_dataset_from_directory(\n",
        "        directory=TEST_DIR,\n",
        "        batch_size=BATCH_SIZE,\n",
        "        image_size=IMAGE_SIZE,\n",
        "        shuffle=True,\n",
        "        seed=42,\n",
        "    )\n",
        "\n",
        "  training_dataset = training_dataset.map(lambda x, y: (rescale(x), y))\n",
        "  validation_dataset = validation_dataset.map(lambda x, y: (rescale(x), y))\n",
        "  test_dataset = test_dataset.map(lambda x, y: (rescale(x), y))\n",
        "\n",
        "  return training_dataset, validation_dataset, test_dataset"
      ]
    },
    {
      "cell_type": "code",
      "execution_count": null,
      "metadata": {
        "colab": {
          "base_uri": "https://localhost:8080/"
        },
        "id": "0FoFcMV57f_4",
        "outputId": "3e1b6e99-0823-4df2-a6e1-aeaff5623853"
      },
      "outputs": [
        {
          "output_type": "stream",
          "name": "stdout",
          "text": [
            "Found 19310 files belonging to 6 classes.\n",
            "Found 3021 files belonging to 6 classes.\n",
            "Found 3042 files belonging to 6 classes.\n"
          ]
        }
      ],
      "source": [
        "training_dataset, validation_dataset, test_dataset = dataset()"
      ]
    },
    {
      "cell_type": "code",
      "source": [
        "def create_pre_trained_model():\n",
        "  pre_trained_model = InceptionV3(\n",
        "      input_shape=(224, 224, 3),\n",
        "      include_top=False,\n",
        "      weights='imagenet',\n",
        "  )\n",
        "\n",
        "  for layer in pre_trained_model.layers:\n",
        "    layer.trainable = False\n",
        "\n",
        "  return pre_trained_model"
      ],
      "metadata": {
        "id": "GEPknMyFN644"
      },
      "execution_count": null,
      "outputs": []
    },
    {
      "cell_type": "code",
      "source": [
        "pre_trained_model = create_pre_trained_model()"
      ],
      "metadata": {
        "id": "GI95LnxsaJlZ"
      },
      "execution_count": null,
      "outputs": []
    },
    {
      "cell_type": "code",
      "source": [
        "def output_last_layer(pre_trained_model):\n",
        "  last_layer = pre_trained_model.get_layer('mixed7')\n",
        "  last_output = last_layer.output\n",
        "  print('last layer output shape: ', last_output.shape)\n",
        "\n",
        "  return last_output"
      ],
      "metadata": {
        "id": "C0SqpNo3aaqf"
      },
      "execution_count": null,
      "outputs": []
    },
    {
      "cell_type": "code",
      "source": [
        "last_output = output_last_layer(pre_trained_model)"
      ],
      "metadata": {
        "colab": {
          "base_uri": "https://localhost:8080/"
        },
        "id": "i-a1dNX_ajnM",
        "outputId": "83efdea2-fead-4065-a559-d33c650b84dd"
      },
      "execution_count": null,
      "outputs": [
        {
          "output_type": "stream",
          "name": "stdout",
          "text": [
            "last layer output shape:  (None, 12, 12, 768)\n"
          ]
        }
      ]
    },
    {
      "cell_type": "code",
      "source": [
        "def main_model(pre_trained_model, last_output):\n",
        "  x = tf.keras.layers.Flatten()(last_output)\n",
        "  x = tf.keras.layers.Dense(1024, activation='relu')(x)\n",
        "  x = tf.keras.layers.Dropout(0.2)(x)\n",
        "  predictions = tf.keras.layers.Dense(6, activation='softmax')(x)\n",
        "\n",
        "  model = tf.keras.Model(inputs=pre_trained_model.input, outputs=predictions)\n",
        "\n",
        "  model.compile(\n",
        "      optimizer=Adam(),\n",
        "      loss='sparse_categorical_crossentropy',\n",
        "      metrics=['accuracy'],\n",
        "  )\n",
        "\n",
        "  return model"
      ],
      "metadata": {
        "id": "-ftFRJQTN7zZ"
      },
      "execution_count": null,
      "outputs": []
    },
    {
      "cell_type": "code",
      "source": [
        "model = main_model(pre_trained_model, last_output)"
      ],
      "metadata": {
        "id": "lVqhT2xYZiV7"
      },
      "execution_count": null,
      "outputs": []
    },
    {
      "cell_type": "code",
      "source": [
        "# Inspect parameters\n",
        "total_params = model.count_params()\n",
        "num_trainable_params = sum([w.shape.num_elements() for w in model.trainable_weights])\n",
        "\n",
        "print(f\"There are {total_params:,} total parameters in this model.\")\n",
        "print(f\"There are {num_trainable_params:,} trainable parameters in this model.\")"
      ],
      "metadata": {
        "colab": {
          "base_uri": "https://localhost:8080/"
        },
        "id": "_ZgjbfH6b2Gk",
        "outputId": "e3b430a1-1bc4-4f6a-d73f-cb0ca2a97350"
      },
      "execution_count": null,
      "outputs": [
        {
          "output_type": "stream",
          "name": "stdout",
          "text": [
            "There are 122,228,646 total parameters in this model.\n",
            "There are 113,253,382 trainable parameters in this model.\n"
          ]
        }
      ]
    },
    {
      "cell_type": "code",
      "source": [
        "history = model.fit(\n",
        "    training_dataset,\n",
        "    validation_data=validation_dataset,\n",
        "    epochs=1,\n",
        "    verbose=1\n",
        ")"
      ],
      "metadata": {
        "colab": {
          "base_uri": "https://localhost:8080/"
        },
        "id": "FzaW69IqNvmy",
        "outputId": "efd8dcac-2c60-4fdd-edbc-54eb5389a412"
      },
      "execution_count": null,
      "outputs": [
        {
          "output_type": "stream",
          "name": "stdout",
          "text": [
            "\u001b[1m302/302\u001b[0m \u001b[32m━━━━━━━━━━━━━━━━━━━━\u001b[0m\u001b[37m\u001b[0m \u001b[1m3772s\u001b[0m 12s/step - accuracy: 0.6363 - loss: 3.0473 - val_accuracy: 0.8944 - val_loss: 0.2871\n"
          ]
        }
      ]
    },
    {
      "cell_type": "code",
      "source": [
        "data_augmentation = tf.keras.Sequential([\n",
        "    tf.keras.layers.RandomFlip(\"horizontal\"),\n",
        "    tf.keras.layers.RandomRotation(0.2),\n",
        "    tf.keras.layers.RandomZoom(0.2),\n",
        "])\n",
        "\n",
        "def create_augmented_model(pre_trained_model, last_output):\n",
        "    x = data_augmentation(pre_trained_model.input)\n",
        "    x = pre_trained_model(x)\n",
        "    x = tf.keras.layers.Flatten()(x)\n",
        "    x = tf.keras.layers.Dense(1024, activation='relu')(x)\n",
        "    x = tf.keras.layers.Dropout(0.3)(x)  # Increased dropout\n",
        "    predictions = tf.keras.layers.Dense(6, activation='softmax')(x)\n",
        "    model = tf.keras.Model(inputs=pre_trained_model.input, outputs=predictions)\n",
        "    model.compile(\n",
        "        optimizer=Adam(learning_rate=1e-4),  # Reduced learning rate\n",
        "        loss='sparse_categorical_crossentropy',\n",
        "        metrics=['accuracy']\n",
        "    )\n",
        "    return model"
      ],
      "metadata": {
        "id": "nDEijjs1XN8A"
      },
      "execution_count": null,
      "outputs": []
    },
    {
      "cell_type": "code",
      "source": [
        "def create_fine_tuned_model():\n",
        "    pre_trained_model = InceptionV3(\n",
        "        input_shape=(224, 224, 3),\n",
        "        include_top=False,\n",
        "        weights='imagenet'\n",
        "    )\n",
        "    # Unfreeze some top layers for fine-tuning\n",
        "    for layer in pre_trained_model.layers[-50:]:\n",
        "        layer.trainable = True\n",
        "\n",
        "    x = tf.keras.layers.GlobalAveragePooling2D()(pre_trained_model.output)\n",
        "    x = tf.keras.layers.Dense(1024, activation='relu')(x)\n",
        "    x = tf.keras.layers.Dropout(0.4)(x)\n",
        "    predictions = tf.keras.layers.Dense(6, activation='softmax')(x)\n",
        "\n",
        "    model = tf.keras.Model(inputs=pre_trained_model.input, outputs=predictions)\n",
        "\n",
        "    model.compile(\n",
        "        optimizer=Adam(learning_rate=1e-5),  # Very low learning rate for fine-tuning\n",
        "        loss='sparse_categorical_crossentropy',\n",
        "        metrics=['accuracy']\n",
        "    )\n",
        "    return model"
      ],
      "metadata": {
        "id": "n3t2XLQfXQwM"
      },
      "execution_count": null,
      "outputs": []
    },
    {
      "cell_type": "code",
      "source": [
        "early_stopping = tf.keras.callbacks.EarlyStopping(\n",
        "    monitor='val_loss',\n",
        "    patience=5,\n",
        "    restore_best_weights=True\n",
        ")\n",
        "\n",
        "lr_scheduler = tf.keras.callbacks.ReduceLROnPlateau(\n",
        "    monitor='val_loss',\n",
        "    factor=0.5,\n",
        "    patience=3,\n",
        "    min_lr=1e-6\n",
        ")\n",
        "\n",
        "history = model.fit(\n",
        "    training_dataset,\n",
        "    validation_data=validation_dataset,\n",
        "    epochs=50,  # More epochs with early stopping\n",
        "    callbacks=[early_stopping, lr_scheduler],\n",
        "    verbose=1\n",
        ")"
      ],
      "metadata": {
        "id": "cw2mTTqDXU6_",
        "colab": {
          "base_uri": "https://localhost:8080/"
        },
        "outputId": "f0fd1d54-0e16-471f-8781-511bc4e9bb16"
      },
      "execution_count": null,
      "outputs": [
        {
          "output_type": "stream",
          "name": "stdout",
          "text": [
            "Epoch 1/50\n",
            "\u001b[1m302/302\u001b[0m \u001b[32m━━━━━━━━━━━━━━━━━━━━\u001b[0m\u001b[37m\u001b[0m \u001b[1m81s\u001b[0m 268ms/step - accuracy: 0.9160 - loss: 0.2263 - val_accuracy: 0.9146 - val_loss: 0.2371 - learning_rate: 0.0010\n",
            "Epoch 2/50\n",
            "\u001b[1m302/302\u001b[0m \u001b[32m━━━━━━━━━━━━━━━━━━━━\u001b[0m\u001b[37m\u001b[0m \u001b[1m81s\u001b[0m 265ms/step - accuracy: 0.9477 - loss: 0.1336 - val_accuracy: 0.9126 - val_loss: 0.2218 - learning_rate: 0.0010\n",
            "Epoch 3/50\n",
            "\u001b[1m302/302\u001b[0m \u001b[32m━━━━━━━━━━━━━━━━━━━━\u001b[0m\u001b[37m\u001b[0m \u001b[1m91s\u001b[0m 299ms/step - accuracy: 0.9563 - loss: 0.1085 - val_accuracy: 0.9126 - val_loss: 0.2094 - learning_rate: 0.0010\n",
            "Epoch 4/50\n",
            "\u001b[1m302/302\u001b[0m \u001b[32m━━━━━━━━━━━━━━━━━━━━\u001b[0m\u001b[37m\u001b[0m \u001b[1m131s\u001b[0m 263ms/step - accuracy: 0.9558 - loss: 0.1146 - val_accuracy: 0.9126 - val_loss: 0.2370 - learning_rate: 0.0010\n",
            "Epoch 5/50\n",
            "\u001b[1m302/302\u001b[0m \u001b[32m━━━━━━━━━━━━━━━━━━━━\u001b[0m\u001b[37m\u001b[0m \u001b[1m93s\u001b[0m 300ms/step - accuracy: 0.9551 - loss: 0.1071 - val_accuracy: 0.9080 - val_loss: 0.2538 - learning_rate: 0.0010\n",
            "Epoch 6/50\n",
            "\u001b[1m302/302\u001b[0m \u001b[32m━━━━━━━━━━━━━━━━━━━━\u001b[0m\u001b[37m\u001b[0m \u001b[1m130s\u001b[0m 262ms/step - accuracy: 0.9575 - loss: 0.1076 - val_accuracy: 0.9136 - val_loss: 0.2509 - learning_rate: 0.0010\n",
            "Epoch 7/50\n",
            "\u001b[1m302/302\u001b[0m \u001b[32m━━━━━━━━━━━━━━━━━━━━\u001b[0m\u001b[37m\u001b[0m \u001b[1m90s\u001b[0m 299ms/step - accuracy: 0.9680 - loss: 0.0764 - val_accuracy: 0.9206 - val_loss: 0.2087 - learning_rate: 5.0000e-04\n",
            "Epoch 8/50\n",
            "\u001b[1m302/302\u001b[0m \u001b[32m━━━━━━━━━━━━━━━━━━━━\u001b[0m\u001b[37m\u001b[0m \u001b[1m80s\u001b[0m 263ms/step - accuracy: 0.9670 - loss: 0.0711 - val_accuracy: 0.9209 - val_loss: 0.1980 - learning_rate: 5.0000e-04\n",
            "Epoch 9/50\n",
            "\u001b[1m302/302\u001b[0m \u001b[32m━━━━━━━━━━━━━━━━━━━━\u001b[0m\u001b[37m\u001b[0m \u001b[1m81s\u001b[0m 266ms/step - accuracy: 0.9699 - loss: 0.0652 - val_accuracy: 0.9209 - val_loss: 0.2116 - learning_rate: 5.0000e-04\n",
            "Epoch 10/50\n",
            "\u001b[1m302/302\u001b[0m \u001b[32m━━━━━━━━━━━━━━━━━━━━\u001b[0m\u001b[37m\u001b[0m \u001b[1m83s\u001b[0m 270ms/step - accuracy: 0.9673 - loss: 0.0660 - val_accuracy: 0.9215 - val_loss: 0.2135 - learning_rate: 5.0000e-04\n",
            "Epoch 11/50\n",
            "\u001b[1m302/302\u001b[0m \u001b[32m━━━━━━━━━━━━━━━━━━━━\u001b[0m\u001b[37m\u001b[0m \u001b[1m91s\u001b[0m 301ms/step - accuracy: 0.9686 - loss: 0.0633 - val_accuracy: 0.9086 - val_loss: 0.2809 - learning_rate: 5.0000e-04\n",
            "Epoch 12/50\n",
            "\u001b[1m302/302\u001b[0m \u001b[32m━━━━━━━━━━━━━━━━━━━━\u001b[0m\u001b[37m\u001b[0m \u001b[1m141s\u001b[0m 297ms/step - accuracy: 0.9689 - loss: 0.0622 - val_accuracy: 0.9278 - val_loss: 0.1979 - learning_rate: 2.5000e-04\n",
            "Epoch 13/50\n",
            "\u001b[1m302/302\u001b[0m \u001b[32m━━━━━━━━━━━━━━━━━━━━\u001b[0m\u001b[37m\u001b[0m \u001b[1m133s\u001b[0m 267ms/step - accuracy: 0.9720 - loss: 0.0555 - val_accuracy: 0.9259 - val_loss: 0.2079 - learning_rate: 2.5000e-04\n",
            "Epoch 14/50\n",
            "\u001b[1m302/302\u001b[0m \u001b[32m━━━━━━━━━━━━━━━━━━━━\u001b[0m\u001b[37m\u001b[0m \u001b[1m91s\u001b[0m 299ms/step - accuracy: 0.9714 - loss: 0.0546 - val_accuracy: 0.9239 - val_loss: 0.2090 - learning_rate: 2.5000e-04\n",
            "Epoch 15/50\n",
            "\u001b[1m302/302\u001b[0m \u001b[32m━━━━━━━━━━━━━━━━━━━━\u001b[0m\u001b[37m\u001b[0m \u001b[1m82s\u001b[0m 270ms/step - accuracy: 0.9694 - loss: 0.0557 - val_accuracy: 0.9268 - val_loss: 0.2015 - learning_rate: 2.5000e-04\n",
            "Epoch 16/50\n",
            "\u001b[1m302/302\u001b[0m \u001b[32m━━━━━━━━━━━━━━━━━━━━\u001b[0m\u001b[37m\u001b[0m \u001b[1m81s\u001b[0m 268ms/step - accuracy: 0.9696 - loss: 0.0553 - val_accuracy: 0.9259 - val_loss: 0.2000 - learning_rate: 1.2500e-04\n",
            "Epoch 17/50\n",
            "\u001b[1m302/302\u001b[0m \u001b[32m━━━━━━━━━━━━━━━━━━━━\u001b[0m\u001b[37m\u001b[0m \u001b[1m91s\u001b[0m 300ms/step - accuracy: 0.9721 - loss: 0.0515 - val_accuracy: 0.9268 - val_loss: 0.1993 - learning_rate: 1.2500e-04\n"
          ]
        }
      ]
    },
    {
      "cell_type": "code",
      "source": [
        "# Plot the training and validation accuracies for each epoch\n",
        "import matplotlib.pyplot as plt\n",
        "\n",
        "acc = history.history['accuracy']\n",
        "val_acc = history.history['val_accuracy']\n",
        "loss = history.history['loss']\n",
        "val_loss = history.history['val_loss']\n",
        "\n",
        "epochs = range(len(acc))\n",
        "\n",
        "plt.plot(epochs, acc, 'r', label='Training accuracy')\n",
        "plt.plot(epochs, val_acc, 'b', label='Validation accuracy')\n",
        "plt.title('Training and validation accuracy')\n",
        "plt.legend(loc=0)\n",
        "plt.show()"
      ],
      "metadata": {
        "id": "qOVwqPVOYtVp",
        "colab": {
          "base_uri": "https://localhost:8080/",
          "height": 452
        },
        "outputId": "31a8b7b1-9e65-456a-e7f9-2f9d21c57cae"
      },
      "execution_count": null,
      "outputs": [
        {
          "output_type": "display_data",
          "data": {
            "text/plain": [
              "<Figure size 640x480 with 1 Axes>"
            ],
            "image/png": "[encoded data removed]"
          },
          "metadata": {}
        }
      ]
    },
    {
      "cell_type": "code",
      "source": [
        "test_loss, test_accuracy = model.evaluate(test_dataset)\n",
        "print(f'Test loss: {test_loss},\\nTest accuracy: {test_accuracy}')"
      ],
      "metadata": {
        "id": "DWaVMG84cMop",
        "colab": {
          "base_uri": "https://localhost:8080/"
        },
        "outputId": "41284e86-5ccd-4457-af81-4a67f47282a8"
      },
      "execution_count": null,
      "outputs": [
        {
          "output_type": "stream",
          "name": "stdout",
          "text": [
            "\u001b[1m48/48\u001b[0m \u001b[32m━━━━━━━━━━━━━━━━━━━━\u001b[0m\u001b[37m\u001b[0m \u001b[1m678s\u001b[0m 14s/step - accuracy: 0.9302 - loss: 0.2042\n",
            "Test loss: 0.1943337470293045,\n",
            "Test accuracy: 0.9270216822624207\n"
          ]
        }
      ]
    },
    {
      "cell_type": "code",
      "source": [
        "model.save('modeldentifycare.keras')"
      ],
      "metadata": {
        "id": "66b-IyEHGo8F"
      },
      "execution_count": null,
      "outputs": []
    }
  ],
  "metadata": {
    "kernelspec": {
      "display_name": "Python 3",
      "name": "python3"
    },
    "language_info": {
      "codemirror_mode": {
        "name": "ipython",
        "version": 3
      },
      "file_extension": ".py",
      "mimetype": "text/x-python",
      "name": "python",
      "nbconvert_exporter": "python",
      "pygments_lexer": "ipython3",
      "version": "3.12.6"
    },
    "colab": {
      "provenance": [],
      "gpuType": "T4"
    },
    "accelerator": "GPU"
  },
  "nbformat": 4,
  "nbformat_minor": 0
}